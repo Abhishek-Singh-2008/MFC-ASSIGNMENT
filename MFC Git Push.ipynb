{
 "cells": [
  {
   "cell_type": "markdown",
   "id": "c14234be",
   "metadata": {},
   "source": [
    "1.Write a code to find the degree of each vertex, and store it in a dictionary. Sort the keys of the dictionary by the degree stored in the values."
   ]
  },
  {
   "cell_type": "code",
   "execution_count": 1,
   "id": "9d8c47bc",
   "metadata": {},
   "outputs": [],
   "source": [
    "def find_and_sort_degrees(graph):\n",
    "    degrees = {}\n",
    "    for node in graph:\n",
    "        degrees[node] = len(graph[node])  \n",
    "    node_degree_pairs = []\n",
    "    for node, degree in degrees.items():\n",
    "        node_degree_pairs.append((node, degree))\n",
    "\n",
    "    for i in range(len(node_degree_pairs)):\n",
    "        for j in range(i + 1, len(node_degree_pairs)):\n",
    "            if node_degree_pairs[i][1] > node_degree_pairs[j][1]:\n",
    "                node_degree_pairs[i], node_degree_pairs[j] = node_degree_pairs[j], node_degree_pairs[i]\n",
    "\n",
    "    sorted_nodes = [node for node, degree in node_degree_pairs]\n",
    "\n",
    "    return degrees, sorted_nodes\n",
    "\n"
   ]
  },
  {
   "cell_type": "markdown",
   "id": "32bc098c",
   "metadata": {},
   "source": [
    "2.Write a code to inter-convert the 3 graph representations we have learnt."
   ]
  },
  {
   "cell_type": "code",
   "execution_count": 2,
   "id": "fbf3095b",
   "metadata": {},
   "outputs": [],
   "source": [
    "def adj_matrix_to_adj_list(adj_matrix):\n",
    "    adj_list = {}\n",
    "    for i in range(len(adj_matrix)):\n",
    "        adj_list[i] = []\n",
    "        for j in range(len(adj_matrix[i])):\n",
    "            if adj_matrix[i][j] != 0:\n",
    "                adj_list[i].append(j)\n",
    "    return adj_list\n",
    "\n",
    "def adj_list_to_adj_matrix(adj_list):\n",
    "    size = len(adj_list)\n",
    "    adj_matrix = [[0] * size for _ in range(size)]\n",
    "    for node, neighbors in adj_list.items():\n",
    "        for neighbor in neighbors:\n",
    "            adj_matrix[node][neighbor] = 1\n",
    "    return adj_matrix\n",
    "\n",
    "\n",
    "def adj_list_to_edge_list(adj_list):\n",
    "    edge_list = []\n",
    "    for node, neighbors in adj_list.items():\n",
    "        for neighbor in neighbors:\n",
    "            edge_list.append((node, neighbor))\n",
    "    return edge_list\n",
    "\n",
    "def edge_list_to_adj_list(edge_list):\n",
    "    adj_list = {}\n",
    "    for edge in edge_list:\n",
    "        u, v = edge\n",
    "        if u not in adj_list:\n",
    "            adj_list[u] = []\n",
    "        adj_list[u].append(v)\n",
    "    return adj_list\n",
    "\n",
    "def adj_matrix_to_edge_list(adj_matrix):\n",
    "    edge_list = []\n",
    "    for i in range(len(adj_matrix)):\n",
    "        for j in range(len(adj_matrix[i])):\n",
    "            if adj_matrix[i][j] != 0:\n",
    "                edge_list.append((i, j))\n",
    "    return edge_list\n",
    "\n",
    "def edge_list_to_adj_matrix(edge_list, num_nodes):\n",
    "    adj_matrix = [[0] * num_nodes for _ in range(num_nodes)]\n",
    "    for edge in edge_list:\n",
    "        u, v = edge\n",
    "        adj_matrix[u][v] = 1\n",
    "    return adj_matrix"
   ]
  },
  {
   "cell_type": "markdown",
   "id": "59d57a7b",
   "metadata": {},
   "source": [
    "3.Given a graph and two vertices, check if they are adjacent. "
   ]
  },
  {
   "cell_type": "code",
   "execution_count": 3,
   "id": "0676ee09",
   "metadata": {},
   "outputs": [],
   "source": [
    "# This is the very simple code through which we can check adjacency of two nodes\n",
    "# in an adjacency matrix.\n",
    "\n",
    "def in_adjacent_matrix(adj_matrix, u, v):\n",
    "    return adj_matrix[u][v] != 0\n",
    "\n",
    "\n",
    "# This is the very simple code through which we can check adjacency of two nodes in an adjacency list.\n",
    "def in_adjacent_list(adj_list, u, v):\n",
    "    return v in adj_list.get(u, [])\n",
    "\n",
    "#This is the very simple code through which we can check adjacency of two nodes in an edge list.\n",
    "def in_adjacent_edge_list(edge_list, u, v):\n",
    "    return (u, v) in edge_list"
   ]
  },
  {
   "cell_type": "markdown",
   "id": "3fc30026",
   "metadata": {},
   "source": [
    "4.Check if a graph is complete.\n"
   ]
  },
  {
   "cell_type": "code",
   "execution_count": 4,
   "id": "0427a1d1",
   "metadata": {},
   "outputs": [],
   "source": [
    "def is_complete_graph(adj_list):\n",
    "    num_vertices = len(adj_list)\n",
    "    \n",
    "    for node, neighbors in adj_list.items():\n",
    "        if len(neighbors) != num_vertices - 1:\n",
    "            return False\n",
    "    \n",
    "    return True\n"
   ]
  },
  {
   "cell_type": "markdown",
   "id": "560ee9f6",
   "metadata": {},
   "source": [
    "5.Check if a graph is connected.\n"
   ]
  },
  {
   "cell_type": "code",
   "execution_count": 5,
   "id": "833e8c0a",
   "metadata": {},
   "outputs": [],
   "source": [
    "def is_connected_graph(adj_list):\n",
    "    def dfs(node):\n",
    "        visited.add(node)\n",
    "        for neighbor in adj_list.get(node, []):\n",
    "            if neighbor not in visited:\n",
    "                dfs(neighbor)\n",
    "\n",
    "    visited = set()\n",
    "    start_node = next(iter(adj_list))\n",
    "    dfs(start_node)\n",
    "\n",
    "    return len(visited) == len(adj_list)\n"
   ]
  },
  {
   "cell_type": "markdown",
   "id": "32e609b2",
   "metadata": {},
   "source": [
    "6.Given a graph and a list of vertices, check if it forms a walk, or a trail or a path or none of these."
   ]
  },
  {
   "cell_type": "code",
   "execution_count": 6,
   "id": "bfb059d2",
   "metadata": {},
   "outputs": [],
   "source": [
    "def check_walk_or_trail_or_path(adj_list, vertex_list):\n",
    "    if len(vertex_list) < 2:\n",
    "        return \"None\"\n",
    "\n",
    "    def is_walk():\n",
    "        for i in range(len(vertex_list) - 1):\n",
    "            u, v = vertex_list[i], vertex_list[i + 1]\n",
    "            if v not in adj_list.get(u, []):\n",
    "                return False\n",
    "        return True\n",
    "\n",
    "    def is_trail():\n",
    "        visited_edges = set()\n",
    "        for i in range(len(vertex_list) - 1):\n",
    "            u, v = vertex_list[i], vertex_list[i + 1]\n",
    "            edge = (min(u, v), max(u, v)) \n",
    "            if edge in visited_edges:\n",
    "                return False\n",
    "            visited_edges.add(edge)\n",
    "        return True\n",
    "\n",
    "    def is_path():\n",
    "        visited_vertices = set()\n",
    "        for vertex in vertex_list:\n",
    "            if vertex in visited_vertices:\n",
    "                return False\n",
    "            visited_vertices.add(vertex)\n",
    "        return True\n",
    "\n",
    "    if is_walk():\n",
    "        if is_trail():\n",
    "            if is_path():\n",
    "                return \"Path\"\n",
    "            return \"Trail\"\n",
    "        return \"Walk\"\n",
    "    return \"None\"\n",
    "\n"
   ]
  },
  {
   "cell_type": "markdown",
   "id": "5cf45814",
   "metadata": {},
   "source": [
    "7.Check if a given graph is a tree."
   ]
  },
  {
   "cell_type": "code",
   "execution_count": 7,
   "id": "9c60758f",
   "metadata": {},
   "outputs": [],
   "source": [
    "def is_tree(adj_list):\n",
    "    def dfs(node, parent):\n",
    "        visited.add(node)\n",
    "        for neighbor in adj_list.get(node, []):\n",
    "            if neighbor not in visited:\n",
    "                if not dfs(neighbor, node):\n",
    "                    return False\n",
    "            elif neighbor != parent:\n",
    "                return False\n",
    "        return True\n",
    "\n",
    "    num_vertices = len(adj_list)\n",
    "    visited = set()\n",
    "\n",
    "    start_node = next(iter(adj_list))\n",
    "    if not dfs(start_node, -1):\n",
    "        return False\n",
    "\n",
    "    if len(visited) != num_vertices:\n",
    "        return False\n",
    "\n",
    "    num_edges = sum(len(neighbors) for neighbors in adj_list.values()) // 2\n",
    "    if num_edges != num_vertices - 1:\n",
    "        return False\n",
    "\n",
    "    return True\n",
    "\n"
   ]
  },
  {
   "cell_type": "markdown",
   "id": "3b67ab46",
   "metadata": {},
   "source": [
    "8.Given a connected cyclic graph, find its spanning tree.\n"
   ]
  },
  {
   "cell_type": "code",
   "execution_count": 8,
   "id": "d36b3e37",
   "metadata": {},
   "outputs": [],
   "source": [
    "def find_spanning_tree(adj_list):\n",
    "    visited = set()\n",
    "    spanning_tree = {node: [] for node in adj_list}\n",
    "\n",
    "    def dfs(node, parent): #Here dfs is (DEPTH FIRST SEARCH)\n",
    "        visited.add(node)\n",
    "        for neighbor in adj_list[node]:\n",
    "            if neighbor not in visited:\n",
    "                spanning_tree[node].append(neighbor)\n",
    "                spanning_tree[neighbor].append(node)\n",
    "                dfs(neighbor, node)\n",
    "\n",
    "    # Start DFS from any node (LIKE:- the first node in the adjacency list)\n",
    "    start_node = next(iter(adj_list))\n",
    "    dfs(start_node, None)\n",
    "\n",
    "    return spanning_tree\n",
    "\n"
   ]
  },
  {
   "cell_type": "markdown",
   "id": "9088a035",
   "metadata": {},
   "source": [
    "9.Given a tree, find the number of leaf nodes."
   ]
  },
  {
   "cell_type": "code",
   "execution_count": 9,
   "id": "04346f2e",
   "metadata": {},
   "outputs": [],
   "source": [
    "\n",
    "def count_leaf_nodes(adj_list):\n",
    "    leaf_count = 0\n",
    "\n",
    "    for node, neighbors in adj_list.items():\n",
    "        if len(neighbors) == 1:\n",
    "            leaf_count += 1\n",
    "\n",
    "    if len(adj_list) == 1:\n",
    "        leaf_count = 1\n",
    "\n",
    "    return leaf_count\n"
   ]
  },
  {
   "cell_type": "markdown",
   "id": "4fca968a",
   "metadata": {},
   "source": [
    "10.Given a tree, check if it's a binary tree.\n"
   ]
  },
  {
   "cell_type": "code",
   "execution_count": 10,
   "id": "f9a5cc01",
   "metadata": {},
   "outputs": [],
   "source": [
    "def check_binary_tree(adj_list):\n",
    "    for node, neighbors in adj_list.items():\n",
    "        if len(neighbors) > 3:\n",
    "            return False\n",
    "    \n",
    "    return True\n"
   ]
  },
  {
   "cell_type": "markdown",
   "id": "a78608e5",
   "metadata": {},
   "source": [
    "11.Given a tree and a node, find its height.\n"
   ]
  },
  {
   "cell_type": "code",
   "execution_count": 11,
   "id": "e942dbe2",
   "metadata": {},
   "outputs": [],
   "source": [
    "def node_height(adj_list, start_node):\n",
    "    def dfs(node, parent):\n",
    "        max_height = 0\n",
    "        for neighbor in adj_list[node]:\n",
    "            if neighbor != parent:   #Here dfs is (DEPTH FIRST SEARCH)\n",
    "                height = dfs(neighbor, node)\n",
    "                max_height = max(max_height, height)\n",
    "        return max_height + 1\n",
    "\n",
    "    return dfs(start_node, -1) - 1\n",
    "\n"
   ]
  },
  {
   "cell_type": "markdown",
   "id": "a91df1f4",
   "metadata": {},
   "source": [
    "12.Given a tree and a node, find its depth.\n"
   ]
  },
  {
   "cell_type": "code",
   "execution_count": 12,
   "id": "d9d0a40c",
   "metadata": {},
   "outputs": [],
   "source": [
    "def node_depth(adj_list, root, target_node):\n",
    "    def dfs(node, parent, depth):  #Here dfs is (DEPTH FIRST SEARCH)\n",
    "        if node == target_node:\n",
    "            return depth\n",
    "        for neighbor in adj_list[node]:\n",
    "            if neighbor != parent: \n",
    "                result = dfs(neighbor, node, depth + 1)\n",
    "                if result is not None:\n",
    "                    return result\n",
    "        return None\n",
    "    return dfs(root, -1, 0)"
   ]
  }
 ],
 "metadata": {
  "kernelspec": {
   "display_name": "Python 3",
   "language": "python",
   "name": "python3"
  },
  "language_info": {
   "codemirror_mode": {
    "name": "ipython",
    "version": 3
   },
   "file_extension": ".py",
   "mimetype": "text/x-python",
   "name": "python",
   "nbconvert_exporter": "python",
   "pygments_lexer": "ipython3",
   "version": "3.13.2"
  }
 },
 "nbformat": 4,
 "nbformat_minor": 5
}
